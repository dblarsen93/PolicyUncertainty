{
 "cells": [
  {
   "cell_type": "markdown",
   "metadata": {},
   "source": [
    "# Effects of Policy Change in a Stochastic Environment"
   ]
  },
  {
   "cell_type": "markdown",
   "metadata": {},
   "source": [
    "## A Simple DSGE Model with Taxes"
   ]
  },
  {
   "cell_type": "markdown",
   "metadata": {},
   "source": [
    "Households in this model hold capital ($k_t$) and an endowment of labor which is normalized by a choice of units to one. They earn a wage rate ($w_t$) payable on the portion of this labor endowment they choose to supply to the market, and generate utility with the remaining labor, which we can think of as leisure. They also earn a rental rate ($r_t$) on their capital, but lose a fraction ($\\delta$) to depreciation. There is also a government in our version of the model, which is missing from Hansen's specification. The government taxes household income at a constant marginal rate ($\\tau$) and refunds the proceeds lump-sum to the households in the form of a transfer ($T_t$). From this net income, households choose a consumption amount ($c_t$) and an amount of capital to carry over to the next period ($k_{t+1}$)."
   ]
  },
  {
   "cell_type": "markdown",
   "metadata": {},
   "source": [
    "### Household's Problem"
   ]
  },
  {
   "cell_type": "markdown",
   "metadata": {},
   "source": [
    "The household solves the following dynamic program.\n",
    "$$ V(k_t;\\theta_t) = \\max_{\\ell_t,k_{t+1}} \\tfrac{1}{1-\\gamma}(c_t^{1-\\gamma} -1 ) - \\chi \\tfrac{1}{1+\\theta}\\ell_t^{1+\\theta} + \\beta E_t\\{V(k_{t+1},\\theta_{t+1})\\} $$\n",
    "$$ \\text{s.t. } (1-\\tau) \\left[w_t\\ell_t+(r_t-\\delta)k_t\\right] + k_t + T_t = c_t+k_{t+1} $$\n",
    "\n",
    "We can dispense with the Lagrangian if we rewrite the budget constraint as\n",
    "$$ c_t = (1-\\tau) \\left[w_t\\ell_t+(r_t-\\delta)k_t\\right] + k_t + T_t-k_{t+1} \\quad \\quad (1) $$\n",
    "and substitute it into the utility function.\n",
    "\n",
    "The first order conditons from the problem are:\n",
    "$$ -\\chi \\ell_t^\\theta + c_t^{-\\gamma} w_t (1-\\tau)= 0 $$\n",
    "$$ -c_t^{-\\gamma} + \\beta E_t\\{V_k(k_{t+1},\\theta_{t+1})\\} = 0 $$\n",
    "\n",
    "The envelope condition is :\n",
    "$$ V_k(k_t;\\theta_t) = c_t^{-\\gamma}[(r_t-\\delta)(1-\\tau)+1] $$\n",
    "\n",
    "Combining the second condition and and the envelope condition and rearranging terms gives us the intertemporal Euler equation.\n",
    "$$ c_t^{-\\gamma} = \\beta E_t\\left\\{ c_{t+1}^{-\\gamma}[(r_{t+1}-\\delta)(1-\\tau)+1] \\right\\} \\quad \\quad (2) $$ \n",
    "\n",
    "Rewriting the first c0ndition gives the a consumption-leisure Euler equation.\n",
    "$$ \\chi \\ell_t^\\theta = c_t^{-\\gamma} w_t (1-\\tau) \\quad \\quad (3) $$\n",
    "Note that work generates disutility via lost leisure, so the left-hand side is the utility from an additional unit of leisure."
   ]
  },
  {
   "cell_type": "markdown",
   "metadata": {},
   "source": [
    "### Firm's Problem"
   ]
  },
  {
   "cell_type": "markdown",
   "metadata": {},
   "source": [
    "A unit measure of firms arises spontaneously each period. Each firm rents capital and labor services from households. The objective is to maximize profits as shown.\n",
    "$$ \\max_{k_t,\\ell_t} \\Pi_t = k_t^\\alpha \\left( e^{z_t} \\ell_t \\right)^{1-\\alpha} - w_t\\ell_t-r_tk_t $$\n",
    "where $k_t$ and $\\ell_t$ are now capital and labor hired.\n",
    "\n",
    "It yields the following first-order conditions:\n",
    "$$ r_t = \\alpha k_t^{\\alpha-1} \\left( e^{z_t} \\ell_t \\right)^{1-\\alpha} \\quad \\quad (4) $$\n",
    "$$ w_t = (1-\\alpha) k_t^\\alpha e^{(1-\\alpha)z_t} \\ell_t^{-\\alpha} \\quad \\quad (5) $$"
   ]
  },
  {
   "cell_type": "markdown",
   "metadata": {},
   "source": [
    "### Government"
   ]
  },
  {
   "cell_type": "markdown",
   "metadata": {},
   "source": [
    "The government collects distortionary taxes and refunds these to the households lump-sum:\n",
    "$$ \\tau \\left[w_t\\ell_t+(r_t-\\delta)k_t\\right] = T_t \\quad \\quad (6) $$"
   ]
  },
  {
   "cell_type": "markdown",
   "metadata": {},
   "source": [
    "### Market-clearing Conditions"
   ]
  },
  {
   "cell_type": "markdown",
   "metadata": {},
   "source": [
    "The markets clear by choice of notation where $k_t$ and $\\ell_t$ denote both supply and demand."
   ]
  },
  {
   "cell_type": "markdown",
   "metadata": {},
   "source": [
    "### Exogenous Law of Motion"
   ]
  },
  {
   "cell_type": "markdown",
   "metadata": {},
   "source": [
    "The stochastic process for the technology is shown below.\n",
    "$$ z_t = \\rho_z z_{t-1}+ \\epsilon^z_t ;\\quad \\epsilon^z_t\\sim\\text{i.i.d.}(0,\\sigma_z^2) \\quad \\quad (7) $$"
   ]
  },
  {
   "cell_type": "markdown",
   "metadata": {},
   "source": [
    "### Equilibrium"
   ]
  },
  {
   "cell_type": "markdown",
   "metadata": {},
   "source": [
    "The dynamic equilibrium for this model is defined by the systems of equations (1) - (7) in the seven dynamic variables, $\\{z_t, k_t, \\ell_t, w_t, r_t, T_t, c_t\\}$.\n",
    "\n",
    "We can group these into the following sets:\n",
    "\n",
    "* Endogenous State Variables: $X_t = \\left[k_{t-1}\\right] $\n",
    "* Implicitly-defined Non-state Variables: $Y_t = \\left[\\ell_t\\right] $\n",
    "* Exogenous State Variables: $Z_t = \\left[z_t\\right] $\n",
    "* Explicity-defined Non-state Variables: $D_t = \\left\\{c_t,w_t,r_t,T_t\\right\\} $"
   ]
  },
  {
   "cell_type": "markdown",
   "metadata": {},
   "source": [
    "## Solution Method"
   ]
  },
  {
   "cell_type": "markdown",
   "metadata": {},
   "source": [
    "We will solve and simulate this model by linearizing about the steady state.  To do so we need to write the key dynamic equations as functions of $X, Y \\& \\; Z$ from various periods.  We can eliminate equations (1) and (4) - (6) by treating them as definitions that are explicit functions of $X, Y \\& \\; Z$.  (7) is the exogenous law of motion, which leaves us the two Euler equations, (2) and (3) as our key equations."
   ]
  },
  {
   "cell_type": "markdown",
   "metadata": {},
   "source": [
    "We proceed first by writing a defintions function that returns $D_t$ as a function of $X_{t+1}, X_t, Y_t \\& \\; Z_t$."
   ]
  },
  {
   "cell_type": "code",
   "execution_count": 13,
   "metadata": {
    "collapsed": true
   },
   "outputs": [],
   "source": [
    "def Modeldefs(Xp, X, Y, Z, params):\n",
    "    '''\n",
    "    This function takes vectors of endogenous and exogenous state variables\n",
    "    along with a vector of 'jump' variables and returns explicitly defined\n",
    "    values for consumption, gdp, wages, real interest rates, and transfers\n",
    "    \n",
    "    Inputs are:\n",
    "        Xp: value of capital in next period\n",
    "        X: value of capital this period\n",
    "        Y: value of labor this period\n",
    "        Z: value of productivity this period\n",
    "        params: list of parameter values\n",
    "    \n",
    "    Output are:\n",
    "        Y: GDP\n",
    "        w: wage rate\n",
    "        r: rental rate on capital\n",
    "        T: transfer payments\n",
    "        c: consumption\n",
    "        i: investment\n",
    "        u: utiity\n",
    "    '''\n",
    "    \n",
    "    # unpack input vectors\n",
    "    kp = Xp\n",
    "    k = X\n",
    "    ell = Y\n",
    "    z = Z\n",
    "    \n",
    "    # find definintion values\n",
    "    Y = k**alpha*(np.exp(z)*ell)**(1-alpha)\n",
    "    w = (1-alpha)*Y/ell\n",
    "    r = alpha*Y/k\n",
    "    T = tau*(w*ell + (r - delta)*k)\n",
    "    c = (1-tau)*(w*ell + (r - delta)*k) + k + T - kp\n",
    "    i = Y - c\n",
    "    u = c**(1-gamma)/(1-gamma) - chi*ell**(1+theta)/(1+theta)\n",
    "    return Y, w, r, T, c, i, u"
   ]
  },
  {
   "cell_type": "markdown",
   "metadata": {},
   "source": [
    "We next write a function for our two key dyanmic equations (2) and (3)."
   ]
  },
  {
   "cell_type": "code",
   "execution_count": 14,
   "metadata": {
    "collapsed": true
   },
   "outputs": [],
   "source": [
    "def Modeldyn(theta0, params):\n",
    "    '''\n",
    "    This function takes vectors of endogenous and exogenous state variables\n",
    "    along with a vector of 'jump' variables and returns values from the\n",
    "    characterizing Euler equations.\n",
    "    \n",
    "    Inputs are:\n",
    "        theta: a vector containng (Xpp, Xp, X, Yp, Y, Zp, Z) where:\n",
    "            Xpp: value of capital in two periods\n",
    "            Xp: value of capital in next period\n",
    "            X: value of capital this period\n",
    "            Yp: value of labor in next period\n",
    "            Y: value of labor this period\n",
    "            Zp: value of productivity in next period\n",
    "            Z: value of productivity this period\n",
    "        params: list of parameter values\n",
    "    \n",
    "    Output are:\n",
    "        Euler: a vector of Euler equations written so that they are zero at the\n",
    "            steady state values of X, Y & Z.  This is a 2x1 numpy array. \n",
    "    '''\n",
    "    \n",
    "    # unpack theat0\n",
    "    (Xpp, Xp, X, Yp, Y, Zp, Z) = theta0\n",
    "    \n",
    "    # find definitions for now and next period\n",
    "    ell = Y\n",
    "    Y, w, r, T, c, i, u = Modeldefs(Xp, X, Y, Z, params)\n",
    "    Yp, wp, rp, Tp, cp, ip, up = Modeldefs(Xpp, Xp, Yp, Zp, params)\n",
    "    \n",
    "    # Evaluate Euler equations\n",
    "    E1 = (c**(-gamma)*(1-tau)*w) / (chi*ell**theta) - 1\n",
    "    E2 = (c**(-gamma)) / (beta*cp**(-gamma)*(1 + (1-tau)*(rp - delta))) - 1\n",
    "    \n",
    "    return np.array([E1, E2])"
   ]
  },
  {
   "cell_type": "markdown",
   "metadata": {},
   "source": [
    "We solve and simulate this model using a linearization toolkit in Python called `LinApp`, which can be downloaded from [GitHub](https://github.com/kerkphil/DSGE-Utilities/tree/master/Linear_Approximation)."
   ]
  },
  {
   "cell_type": "code",
   "execution_count": 15,
   "metadata": {
    "collapsed": true
   },
   "outputs": [],
   "source": [
    "import numpy as np\n",
    "import matplotlib.pyplot as plt\n",
    "\n",
    "# import the modules from LinApp\n",
    "from LinApp_FindSS import LinApp_FindSS\n",
    "from LinApp_Deriv import LinApp_Deriv\n",
    "from LinApp_Solve import LinApp_Solve\n",
    "from LinApp_SSL import LinApp_SSL"
   ]
  },
  {
   "cell_type": "markdown",
   "metadata": {},
   "source": [
    "First, we set parameter values for the model."
   ]
  },
  {
   "cell_type": "code",
   "execution_count": 16,
   "metadata": {},
   "outputs": [],
   "source": [
    "alpha = .35\n",
    "beta = .99\n",
    "gamma = 2.5\n",
    "delta = .08\n",
    "chi = 10.\n",
    "theta = 2.\n",
    "tau = .05\n",
    "rho_z = .9\n",
    "sigma_z = .02\n",
    "\n",
    "# make parameter list to pass to functions\n",
    "params = (alpha, beta, gamma, delta, chi, theta, tau, rho_z, sigma_z)\n",
    "\n",
    "# set LinApp parameters\n",
    "Zbar = np.array([0.])\n",
    "nx = 1\n",
    "ny = 1\n",
    "nz = 1\n",
    "logX = 0\n",
    "Sylv = 0"
   ]
  },
  {
   "cell_type": "markdown",
   "metadata": {},
   "source": [
    "### Find the Steady State"
   ]
  },
  {
   "cell_type": "markdown",
   "metadata": {},
   "source": [
    "Now we solve for the steady state.  We do this with `LinApp_FindSS`, which searches over values for $\\bar X$ and $\\bar Y$ to find values that satisfy the Euler equations."
   ]
  },
  {
   "cell_type": "code",
   "execution_count": 22,
   "metadata": {},
   "outputs": [
    {
     "name": "stdout",
     "output_type": "stream",
     "text": [
      "check SS:  [  8.88178420e-15  -4.44089210e-16]\n",
      "kbar:    4.14795450215\n",
      "ellbar:  0.518907905124\n",
      "Ybar:    1.07411450372\n",
      "wbar:    1.34546885974\n",
      "rbar:    0.0906326422116\n",
      "Tbar:    0.0371139071775\n",
      "cbar:    0.742278143551\n",
      "ibar:    0.331836360172\n",
      "ubar:    -1.50820490253\n"
     ]
    }
   ],
   "source": [
    "# take a guess for steady state values of k and ell\n",
    "guessXY = np.array([.1, .25])\n",
    "\n",
    "# find the steady state values using LinApp_FindSS\n",
    "XYbar = LinApp_FindSS(Modeldyn, params, guessXY, Zbar, nx, ny)\n",
    "(kbar, ellbar) = XYbar\n",
    "\n",
    "# set up steady state input vector\n",
    "theta0 = np.array([kbar, kbar, kbar, ellbar, ellbar, 0., 0.])\n",
    "\n",
    "# check SS solution\n",
    "check = Modeldyn(theta0, params)\n",
    "print ('check SS: ', check)\n",
    "if np.max(np.abs(check)) > 1.E-6:\n",
    "    print ('Have NOT found steady state')\n",
    "    \n",
    "# find the steady state values for the definitions\n",
    "Ybar, wbar, rbar, Tbar, cbar, ibar, ubar = Modeldefs(kbar, kbar, ellbar, 0., params)\n",
    "\n",
    "# display all steady state values\n",
    "print ('kbar:   ', kbar)\n",
    "print ('ellbar: ', ellbar)\n",
    "print ('Ybar:   ', Ybar)\n",
    "print ('wbar:   ', wbar)\n",
    "print ('rbar:   ', rbar)\n",
    "print ('Tbar:   ', Tbar)\n",
    "print ('cbar:   ', cbar)\n",
    "print ('ibar:   ', ibar)\n",
    "print ('ubar:   ', ubar)"
   ]
  },
  {
   "cell_type": "markdown",
   "metadata": {},
   "source": [
    "### Find the Linear Coefficients"
   ]
  },
  {
   "cell_type": "markdown",
   "metadata": {},
   "source": [
    "Next, we find the linear coefficients we need for simulation.  This uses `LinApp_Deriv` to get numerical derivatives of the Euler equations.  `LinApp_Solve` then calculates the coefficients.\n",
    "\n",
    "The linearized policy and jump functions we will use are:\n",
    "$$ X_{t+1} = \\bar X + U + P (X_t - \\bar X) + Q Z_t $$\n",
    "$$ Y_t = \\bar Y + V + R (X_t - \\bar X) + S Z_t $$\n",
    "Note that when linearizing about the steady state $U$ and $V$ will be zero."
   ]
  },
  {
   "cell_type": "code",
   "execution_count": 19,
   "metadata": {},
   "outputs": [
    {
     "name": "stdout",
     "output_type": "stream",
     "text": [
      "P:  [[ 0.9229589]]\n",
      "Q:  [[ 0.53763674]]\n",
      "R:  [[-0.02327817]]\n",
      "S:  [[ 0.01206446]]\n"
     ]
    }
   ],
   "source": [
    "# find the derivatives matrices\n",
    "[AA, BB, CC, DD, FF, GG, HH, JJ, KK, LL, MM, WW, TT] = \\\n",
    "    LinApp_Deriv(Modeldyn, params, theta0, nx, ny, nz, logX)\n",
    "\n",
    "# set value for NN    \n",
    "NN = rho_z\n",
    "    \n",
    "# find the policy and jump function coefficients\n",
    "PP, QQ, UU, RR, SS, VV = \\\n",
    "    LinApp_Solve(AA,BB,CC,DD,FF,GG,HH,JJ,KK,LL,MM,WW,TT,NN,Zbar,Sylv)\n",
    "print ('P: ', PP)\n",
    "print ('Q: ', QQ)\n",
    "print ('R: ', RR)\n",
    "print ('S: ', SS)"
   ]
  },
  {
   "cell_type": "markdown",
   "metadata": {},
   "source": [
    "### Simulating the Baseline Model"
   ]
  },
  {
   "cell_type": "markdown",
   "metadata": {},
   "source": [
    "With these coefficient we can now simulate our model if we wish by calling `LinApp_SSL`.  To do so we need to specify a history of exogenous variables $Z$ and starting values for $X$ and $Y$."
   ]
  },
  {
   "cell_type": "code",
   "execution_count": 39,
   "metadata": {},
   "outputs": [
    {
     "name": "stdout",
     "output_type": "stream",
     "text": [
      "[ 4.1479545] [ 4.1479545]\n",
      "[ 0.51890791]\n"
     ]
    },
    {
     "data": {
      "image/png": "[encoded data removed]",
      "text/plain": [
       "<matplotlib.figure.Figure at 0x11a51c6a0>"
      ]
     },
     "metadata": {},
     "output_type": "display_data"
    },
    {
     "data": {
      "image/png": "[encoded data removed]",
      "text/plain": [
       "<matplotlib.figure.Figure at 0x11acedb00>"
      ]
     },
     "metadata": {},
     "output_type": "display_data"
    }
   ],
   "source": [
    "# generate a history of Z's\n",
    "nobs = 250\n",
    "Zhist = np.zeros((nobs,1))\n",
    "for t in range(1, nobs):\n",
    "    Zhist[t,0] = rho_z*Zhist[t,0] + sigma_z*np.random.normal(0., 1.)\n",
    "    \n",
    "# put SS values and starting values into numpy vectors\n",
    "XYbar = np.array([kbar, ellbar])\n",
    "X0 = np.array([kbar])\n",
    "Y0 = np.array([ellbar])\n",
    "\n",
    "# simulate the model\n",
    "khist, ellhist = \\\n",
    "    LinApp_SSL(X0, Zhist, XYbar, logX, PP, QQ, UU, Y0, RR, SS, VV)\n",
    "    \n",
    "# plot k and ell\n",
    "plt.subplot(2, 1, 1)\n",
    "plt.plot(khist)\n",
    "plt.title('Capital Stock')\n",
    "plt.subplot(2, 1, 2)\n",
    "plt.plot(ellhist)\n",
    "plt.title('Labor')\n",
    "plt.show()\n",
    "\n",
    "# find other variables and plot\n",
    "# preallocate histories\n",
    "Yhist = np.zeros(nobs-1)\n",
    "whist = np.zeros(nobs-1)\n",
    "rhist = np.zeros(nobs-1)\n",
    "Thist = np.zeros(nobs-1)\n",
    "chist = np.zeros(nobs-1)\n",
    "ihist = np.zeros(nobs-1)\n",
    "uhist = np.zeros(nobs-1)\n",
    "for t in range(0, nobs-1):\n",
    "    Yhist[t], whist[t], rhist[t], Thist[t], chist[t], ihist[t], uhist[t] = \\\n",
    "        Modeldefs(khist[t+1], khist[t], ellhist[t], Zhist[t], params)\n",
    "        \n",
    "plt.subplot(3, 3, 1)\n",
    "plt.plot(Zhist)\n",
    "plt.title('z')\n",
    "\n",
    "plt.subplot(3, 3, 2)\n",
    "plt.plot(Yhist)\n",
    "plt.title('Y')\n",
    "\n",
    "plt.subplot(3, 3, 3)\n",
    "plt.plot(whist)\n",
    "plt.title('w')\n",
    "\n",
    "plt.subplot(3, 3, 4)\n",
    "plt.plot(rhist)\n",
    "plt.title('r')\n",
    "\n",
    "plt.subplot(3, 3, 5)\n",
    "plt.plot(Thist)\n",
    "plt.title('T')\n",
    "\n",
    "plt.subplot(3, 3, 6)\n",
    "plt.plot(chist)\n",
    "plt.title('c')\n",
    "\n",
    "plt.subplot(3, 3, 7)\n",
    "plt.plot(ihist)\n",
    "plt.title('i')\n",
    "\n",
    "plt.subplot(3, 3, 8)\n",
    "plt.plot(uhist)\n",
    "plt.title('u')\n",
    "\n",
    "plt.show()"
   ]
  },
  {
   "cell_type": "markdown",
   "metadata": {},
   "source": [
    "## Allowing for Policy Change"
   ]
  },
  {
   "cell_type": "markdown",
   "metadata": {},
   "source": [
    "Rather than simulate about the same steady state for our whole simulation, we are going to change parameter values in the middle.  In addition we want to simulate several Monte Carlos for our model.  This means we cannot use `LinApp_SSL`, and will need to build our own history-generating function.  Fortuneately, we can still use `LinApp_Sim`, which generates next period's values of $X$ given today's state."
   ]
  },
  {
   "cell_type": "markdown",
   "metadata": {},
   "source": [
    "Our first tast is to specify new parameter values that will be put into place when the policy changes.  We then need to solve for the new steady state and the new linear coefficients."
   ]
  },
  {
   "cell_type": "code",
   "execution_count": 41,
   "metadata": {},
   "outputs": [
    {
     "name": "stdout",
     "output_type": "stream",
     "text": [
      "check SS:  [  1.11022302e-15   2.22044605e-16]\n",
      "kbar:    4.14795450215\n",
      "ellbar:  0.518907905124\n",
      "Ybar:    1.07411450372\n",
      "wbar:    1.34546885974\n",
      "rbar:    0.0906326422116\n",
      "Tbar:    0.0371139071775\n",
      "cbar:    0.742278143551\n",
      "ibar:    0.331836360172\n",
      "ubar:    -1.50820490253\n",
      "P:  [[ 0.9229589]]\n",
      "Q:  [[ 0.53763674]]\n",
      "R:  [[-0.02327817]]\n",
      "S:  [[ 0.01206446]]\n"
     ]
    }
   ],
   "source": [
    "# set new tax rate\n",
    "tau2 = .10\n",
    "\n",
    "# make parameter list to pass to functions\n",
    "params2 = (alpha, beta, gamma, delta, chi, theta, tau2, rho_z, sigma_z)\n",
    "\n",
    "# find new steady state\n",
    "# use the old steady state values of k and ell for our guess\n",
    "guessXY = XYbar\n",
    "\n",
    "# find the steady state values using LinApp_FindSS\n",
    "XYbar2 = LinApp_FindSS(Modeldyn, params2, guessXY, Zbar, nx, ny)\n",
    "(kbar2, ellbar2) = XYbar2\n",
    "\n",
    "# set up steady state input vector\n",
    "theta02 = np.array([kbar2, kbar2, kbar2, ellbar2, ellbar2, 0., 0.])\n",
    "\n",
    "# check SS solution\n",
    "check = Modeldyn(theta02, params2)\n",
    "print ('check SS: ', check)\n",
    "if np.max(np.abs(check)) > 1.E-6:\n",
    "    print ('Have NOT found steady state')\n",
    "    \n",
    "# find the steady state values for the definitions\n",
    "Ybar2, wbar2, rbar2, Tbar2, cbar2, ibar2, ubar2 = \\\n",
    "    Modeldefs(kbar2, kbar2, ellbar2, 0., params2)\n",
    "\n",
    "# display all steady state values\n",
    "print ('kbar:   ', kbar2)\n",
    "print ('ellbar: ', ellbar2)\n",
    "print ('Ybar:   ', Ybar2)\n",
    "print ('wbar:   ', wbar2)\n",
    "print ('rbar:   ', rbar2)\n",
    "print ('Tbar:   ', Tbar2)\n",
    "print ('cbar:   ', cbar2)\n",
    "print ('ibar:   ', ibar2)\n",
    "print ('ubar:   ', ubar2)\n",
    "\n",
    "# find the new derivatives matrices\n",
    "[AA2, BB2, CC2, DD2, FF2, GG2, HH2, JJ2, KK2, LL2, MM2, WW2, TT2] = \\\n",
    "    LinApp_Deriv(Modeldyn, params2, theta02, nx, ny, nz, logX)\n",
    "    \n",
    "# find the policy and jump function coefficients\n",
    "PP2, QQ2, UU2, RR2, SS2, VV2 = \\\n",
    "    LinApp_Solve(AA2,BB2,CC2,DD2,FF2,GG2,HH2,JJ2,KK2,LL2,MM2,WW2,TT2,NN,Zbar,Sylv)\n",
    "print ('P: ', PP2)\n",
    "print ('Q: ', QQ2)\n",
    "print ('R: ', RR2)\n",
    "print ('S: ', SS2)"
   ]
  },
  {
   "cell_type": "markdown",
   "metadata": {},
   "source": [
    "Now we write a function that will generate a random history of $Z$s and simulate, but which switches tax rates in period $t_s$."
   ]
  },
  {
   "cell_type": "code",
   "execution_count": 83,
   "metadata": {
    "collapsed": true
   },
   "outputs": [],
   "source": [
    "def PolSim(initial, nobs, ts, coeffs1, state1, params1, coeffs2, state2, params2):\n",
    "    from LinApp_Sim import LinApp_Sim\n",
    "    '''\n",
    "    Generates a history of k & ell with a switch in regime in period ts.\n",
    "    \n",
    "    Inputs\n",
    "    -----------    \n",
    "    initial: list of values for k & z (k0, z0) in the first period.\n",
    "    nobs: number of periods to simulate.\n",
    "    ts: period in which the shift occurs.\n",
    "    coeffs1: list of (PP, QQ, UU, RR, SS, VV) under the baseline regime.\n",
    "    state1: numpy array of XYbar under the baseline regime.\n",
    "    params1: list of parameters under the baseline regime.\n",
    "    coeffs2: list of (PP2, QQ2, UU2, RR2, SS2, VV2) under the new regime.\n",
    "    state2: numpy array of XYbar2 under the new regime.\n",
    "    params2: list of parameters under the new regime.\n",
    "    \n",
    "    Returns\n",
    "    --------\n",
    "    khist: 2D-array, dtype=float\n",
    "        nobs-by-1 matrix containing the values of k\n",
    "    \n",
    "    ellhist: 2D-array, dtype=float\n",
    "        nobs-by-1 matrix vector containing the values of ell \n",
    "        \n",
    "    zhist: 2D-array, dtype=float\n",
    "        nobs-by-1 matrix vector containing the values of z \n",
    "    '''\n",
    "    \n",
    "    # preallocate k, ell, and z\n",
    "    khist = np.zeros(nobs+1)\n",
    "    ellhist = np.zeros(nobs)\n",
    "    zhist = np.zeros(nobs)\n",
    "    \n",
    "    # set starting values\n",
    "    khist[0] = k0\n",
    "    zhist[0] = z0\n",
    "    \n",
    "    # generate history of random shocks\n",
    "    for t in range(1, nobs):\n",
    "        zhist[t] = rho_z*zhist[t] + sigma_z*np.random.normal(0., 1.)\n",
    "        \n",
    "    # generate histories for k and ell for the first ts-1 periods\n",
    "    for t in range(0, ts-1):\n",
    "        # inputs must be 1D numpy arrays and deviation from SS values\n",
    "        kin = np.array([khist[t] - kbar])\n",
    "        zin = np.array([zhist[t]])\n",
    "        k, ell = LinApp_Sim(kin, zin, PP, QQ, UU, RR, SS, VV)\n",
    "        # k and ell are deviations from SS values, so add these back.\n",
    "        # they are also 1D numpy arrays, so pull out the values rather than use the arrays.\n",
    "        khist[t+1] = k[0] + kbar\n",
    "        ellhist[t] = ell[0] + ellbar\n",
    "    \n",
    "    for t in range(ts-1, nobs):\n",
    "        kin = np.array([khist[t] - kbar])\n",
    "        zin = np.array([zhist[t]])\n",
    "        k, ell = LinApp_Sim(kin, zin, PP, QQ, UU, RR, SS, VV)\n",
    "        khist[t+1] = k + kbar\n",
    "        ellhist[t] = ell + ellbar\n",
    "    \n",
    "    return khist, ellhist, zhist"
   ]
  },
  {
   "cell_type": "markdown",
   "metadata": {},
   "source": [
    "We also write a function that takes the histories for $k$, $\\ell$ and $z$ and returns the histories for the other variables."
   ]
  },
  {
   "cell_type": "code",
   "execution_count": 84,
   "metadata": {
    "collapsed": true
   },
   "outputs": [],
   "source": [
    "def Other(khist, ellhist, zhist, params):\n",
    "    # find the number of observations\n",
    "    nobs = zhist.size\n",
    "    \n",
    "    # preallocate histories\n",
    "    Yhist = np.zeros(nobs)\n",
    "    whist = np.zeros(nobs)\n",
    "    rhist = np.zeros(nobs)\n",
    "    Thist = np.zeros(nobs)\n",
    "    chist = np.zeros(nobs)\n",
    "    ihist = np.zeros(nobs)\n",
    "    uhist = np.zeros(nobs)\n",
    "    \n",
    "    for t in range(0, nobs):\n",
    "        Yhist[t], whist[t], rhist[t], Thist[t], chist[t], ihist[t], uhist[t] = \\\n",
    "            Modeldefs(khist[t+1], khist[t], ellhist[t], Zhist[t], params)\n",
    "    \n",
    "    return Yhist, whist, rhist, Thist, chist, ihist, uhist"
   ]
  },
  {
   "cell_type": "markdown",
   "metadata": {},
   "source": [
    "We need to simulate this model `nsim` times and save the histories of all the variable each time.  "
   ]
  },
  {
   "cell_type": "code",
   "execution_count": 100,
   "metadata": {},
   "outputs": [],
   "source": [
    "# specify the number of simulations and observations per simulation\n",
    "nsim = 100\n",
    "nobs = 60\n",
    "\n",
    "# specify the period policy shifts\n",
    "ts = 20\n",
    "\n",
    "# specify initial values\n",
    "k0 = kbar\n",
    "z0 = 0.\n",
    "initial = (k0, z0)\n",
    "\n",
    "# set up coefficient lists\n",
    "coeffs1 = (PP, QQ, UU, RR, SS, VV)\n",
    "coeffs2 = (PP2, QQ2, UU2, RR2, SS2, VV2)\n",
    "\n",
    "# begin Monte Carlos\n",
    "\n",
    "# run first simulation and store in Monte Carlo matrices\n",
    "kmc, ellmc, zmc = PolSim(initial, nobs, ts, coeffs1, XYbar, params, coeffs2, XYbar2, params2)\n",
    "Ymc, wmc, rmc, Tmc, cmc, imc, umc = Other(kmc, ellmc, zmc, params)\n",
    "\n",
    "for i in range(1, nsim):\n",
    "    # run remaining simulations\n",
    "    khist, ellhist, zhist = \\\n",
    "        PolSim(initial, nobs, ts, coeffs1, XYbar, params, coeffs2, XYbar2, params2)\n",
    "    Yhist, whist, rhist, Thist, chist, ihist, uhist = \\\n",
    "        Other(khist, ellhist, zhist, params)\n",
    "    \n",
    "    # stack results in Monte Carlo matrices\n",
    "    kmc = np.vstack((kmc, khist))\n",
    "    ellmc = np.vstack((ellmc, ellhist))\n",
    "    zmc = np.vstack((zmc, zhist))\n",
    "    Ymc = np.vstack((Ymc, Yhist))\n",
    "    wmc = np.vstack((wmc, whist))\n",
    "    rmc = np.vstack((rmc, rhist))\n",
    "    wmc = np.vstack((wmc, whist))\n",
    "    Tmc = np.vstack((Tmc, Thist))\n",
    "    cmc = np.vstack((cmc, chist))\n",
    "    imc = np.vstack((imc, ihist))\n",
    "    umc = np.vstack((umc, uhist))"
   ]
  },
  {
   "cell_type": "markdown",
   "metadata": {},
   "source": [
    "Now we sort these over simulations and find the confidence bands for the histories."
   ]
  },
  {
   "cell_type": "code",
   "execution_count": 101,
   "metadata": {},
   "outputs": [
    {
     "name": "stdout",
     "output_type": "stream",
     "text": [
      "5 95\n"
     ]
    }
   ],
   "source": [
    "    \n",
    "# now sort the Monte Carlo matrices over the rows\n",
    "kmc = np.sort(kmc, axis = 0)\n",
    "ellmc = np.sort(ellmc, axis = 0)\n",
    "zmc = np.sort(zmc, axis = 0)\n",
    "Ymc = np.sort(Ymc, axis = 0)\n",
    "wmc = np.sort(wmc, axis = 0)\n",
    "rmc = np.sort(rmc, axis = 0)\n",
    "Tmc = np.sort(Tmc, axis = 0)\n",
    "cmc = np.sort(cmc, axis = 0)\n",
    "imc = np.sort(imc, axis = 0)\n",
    "umc = np.sort(umc, axis = 0)\n",
    "\n",
    "# find the average values for each variable in each time period across Monte Carlos\n",
    "kavg = np.mean(kmc, axis = 0)\n",
    "ellavg = np.mean(ellmc, axis = 0)\n",
    "zavg = np.mean(zmc, axis = 0)\n",
    "Yavg = np.mean(Ymc, axis = 0)\n",
    "wavg = np.mean(wmc, axis = 0)\n",
    "ravg = np.mean(rmc, axis = 0)\n",
    "Tavg = np.mean(Tmc, axis = 0)\n",
    "cavg = np.mean(cmc, axis = 0)\n",
    "iavg = np.mean(imc, axis = 0)\n",
    "uavg = np.mean(umc, axis = 0)\n",
    "\n",
    "# find the rows for desired confidence bands\n",
    "conf = .1\n",
    "low = int(np.floor((conf/2)*nsim))\n",
    "high = nsim - low\n",
    "\n",
    "# find the upper and lower confidence bands for each variable\n",
    "kupp = kmc[high,:]\n",
    "ellupp = ellmc[high,:]\n",
    "zupp = zmc[high,:]\n",
    "Yupp = Ymc[high,:]\n",
    "wupp = wmc[high,:]\n",
    "rupp = rmc[high,:]\n",
    "Tupp = Tmc[high,:]\n",
    "cupp = cmc[high,:]\n",
    "iupp = imc[high,:]\n",
    "uupp = umc[high,:]\n",
    "\n",
    "klow = kmc[low,:]\n",
    "elllow = ellmc[low,:]\n",
    "zlow = zmc[low,:]\n",
    "Ylow = Ymc[low,:]\n",
    "wlow = wmc[low,:]\n",
    "rlow = rmc[low,:]\n",
    "Tlow = Tmc[low,:]\n",
    "clow = cmc[low,:]\n",
    "ilow = imc[low,:]\n",
    "ulow = umc[low,:]"
   ]
  },
  {
   "cell_type": "markdown",
   "metadata": {},
   "source": [
    "Finally we plot the mean value and confidence bands."
   ]
  },
  {
   "cell_type": "code",
   "execution_count": 102,
   "metadata": {},
   "outputs": [
    {
     "data": {
      "image/png": "[encoded data removed]",
      "text/plain": [
       "<matplotlib.figure.Figure at 0x11a87fd30>"
      ]
     },
     "metadata": {},
     "output_type": "display_data"
    }
   ],
   "source": [
    "# plot\n",
    "plt.subplot(2,2,1)\n",
    "plt.plot(range(kavg.size), kavg, 'k-',\n",
    "         range(kupp.size), kupp, 'k:',\n",
    "         range(klow.size), klow, 'k:')\n",
    "plt.title('k')\n",
    "\n",
    "plt.subplot(2,2,2)\n",
    "plt.plot(range(ellavg.size), ellavg, 'k-',\n",
    "         range(ellupp.size), ellupp, 'k:',\n",
    "         range(elllow.size), elllow, 'k:')\n",
    "plt.title('ell')\n",
    "\n",
    "plt.subplot(2,2,3)\n",
    "plt.plot(range(zavg.size), zavg, 'k-',\n",
    "         range(zupp.size), zupp, 'k:',\n",
    "         range(zlow.size), zlow, 'k:')\n",
    "plt.title('z')\n",
    "\n",
    "plt.subplot(2,2,4)\n",
    "plt.plot(range(Yavg.size), Yavg, 'k-',\n",
    "         range(Yupp.size), Yupp, 'k:',\n",
    "         range(Ylow.size), Ylow, 'k:')\n",
    "plt.title('Y')\n",
    "\n",
    "plt.show()"
   ]
  },
  {
   "cell_type": "code",
   "execution_count": null,
   "metadata": {
    "collapsed": true
   },
   "outputs": [],
   "source": []
  }
 ],
 "metadata": {
  "kernelspec": {
   "display_name": "Python 3",
   "language": "python",
   "name": "python3"
  },
  "language_info": {
   "codemirror_mode": {
    "name": "ipython",
    "version": 3
   },
   "file_extension": ".py",
   "mimetype": "text/x-python",
   "name": "python",
   "nbconvert_exporter": "python",
   "pygments_lexer": "ipython3",
   "version": "3.5.3"
  }
 },
 "nbformat": 4,
 "nbformat_minor": 2
}
