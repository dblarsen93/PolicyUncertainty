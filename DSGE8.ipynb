{
 "cells": [
  {
   "cell_type": "markdown",
   "metadata": {},
   "source": [
    "# DSGE Exercise 8"
   ]
  },
  {
   "cell_type": "markdown",
   "metadata": {},
   "source": [
    "** Question 8:**\n",
    "\n",
    "For the Brock and Mirman model set up a discrete grid for $K$ with 26 values ranging from $.5 \\bar K$ to $1.5 \\bar K$.  Also set up a discrete grid for $z$ with 26 values ranging from $-5\\sigma$ to $+5\\sigma$.  Set up a value function array, $V$ that stores the value for all $26^2$ possible permutations of $K$ and $z$.  Also set up a policy function array, $H$, that stores the optimal index value of $K'$ for all all $26^2$ possible permutations of $K$ and $z$.\n",
    "\n",
    "To begin assume that all elements of $V$ are zero and that all elements of $H$ point to the lowest possible value for $K$ ($.5 \\bar K$).\n",
    "\n",
    "Loop over all possible values of $K$ and $z$ and for each combination find 1) the optimal value of $K'$ from the 26 possible values.  Store this value in an updated policy function array, $H_{new}$.  Also find 2) the value implied by this choice given the current value function.  Store this in an updated value function array, $V_{new}$.\n",
    "\n",
    "Once this is completed for all $K$ and $z$ check to see if $V$ is approximately equal to $V_{new}$.  If so, output the value function and policy function arrays.  If not, replace $V$ with $V_{new}$ and $H$ with $H_{new}$ and repeat the search above.\n",
    "\n",
    "When finished plot the three-dimensional surface plot for the policy function $K' = H(K,z)$.  Compare this with the closed form solution.\n"
   ]
  },
  {
   "cell_type": "markdown",
   "metadata": {},
   "source": [
    "Let's use a Python program to find the steady state values given the closed-form solution above.  We will define a function that returns the steady state values of the non-state variables as a function of the steady state value for $k$."
   ]
  },
  {
   "cell_type": "markdown",
   "metadata": {
    "collapsed": true
   },
   "source": [
    "** Answer: **\n",
    "\n",
    "First, write a function that returns values for non-state variables, given known state variables."
   ]
  },
  {
   "cell_type": "code",
   "execution_count": 1,
   "metadata": {
    "collapsed": true
   },
   "outputs": [],
   "source": [
    "def modeldefs(k, kp, z, *mparams):\n",
    "    # This function takes the following inputs:\n",
    "    #  k - capital stock today\n",
    "    #  kp - capital stock next period\n",
    "    #  z - productivity today\n",
    "    # It returns the following:\n",
    "    #  y - output\n",
    "    #  r - rental rate on capital\n",
    "    #  w - wage rate\n",
    "    #  c - consumption\n",
    "    #  i - investment\n",
    "    #  u - household utility\n",
    "    \n",
    "    # find variables\n",
    "    y = k**alpha*np.exp(z)            # y(t)\n",
    "    r = alpha*y/k                     # r(t)\n",
    "    w = (1-alpha)*y                   # w(t)\n",
    "    c = w + r*k - kp                  # c(t)\n",
    "    i = y - c                         # i(t)\n",
    "    u = np.log(c)                     # u(t)\n",
    "    return y, r, w, c, i, u"
   ]
  },
  {
   "cell_type": "markdown",
   "metadata": {},
   "source": [
    "We will use the supplemental function, rouwen.  This is used to create a Markov process that approximates an AR(1) process.\n",
    "\n",
    "We copy and paste this function from rouwen.py below."
   ]
  },
  {
   "cell_type": "code",
   "execution_count": 2,
   "metadata": {
    "collapsed": true
   },
   "outputs": [],
   "source": [
    "import numpy as np\n",
    "\n",
    "def rouwen(rho, mu, step, num):\n",
    "    '''\n",
    "    Adapted from Lu Zhang and Karen Kopecky. Python by Ben Tengelsen.\n",
    "    Construct transition probability matrix for discretizing an AR(1)\n",
    "    process. This procedure is from Rouwenhorst (1995), which works\n",
    "    well for very persistent processes.\n",
    "\n",
    "    INPUTS:\n",
    "    rho  - persistence (close to one)\n",
    "    mu   - mean and the middle point of the discrete state space\n",
    "    step - step size of the even-spaced grid\n",
    "    num  - number of grid points on the discretized process\n",
    "\n",
    "    OUTPUT:\n",
    "    dscSp  - discrete state space (num by 1 vector)\n",
    "    transP - transition probability matrix over the grid\n",
    "    '''\n",
    "\n",
    "    # discrete state space\n",
    "    dscSp = np.linspace(mu -(num-1)/2*step, mu +(num-1)/2*step, num).T\n",
    "\n",
    "    # transition probability matrix\n",
    "    q = p = (rho + 1)/2.\n",
    "    transP = np.array([[p**2, p*(1-q), (1-q)**2], \\\n",
    "                    [2*p*(1-p), p*q+(1-p)*(1-q), 2*q*(1-q)], \\\n",
    "                    [(1-p)**2, (1-p)*q, q**2]]).T\n",
    "\n",
    "\n",
    "    while transP.shape[0] <= num - 1:\n",
    "\n",
    "        # see Rouwenhorst 1995\n",
    "        len_P = transP.shape[0]\n",
    "        transP = p * np.vstack((np.hstack((transP, np.zeros((len_P, 1)))), np.zeros((1, len_P+1)))) \\\n",
    "                + (1 - p) * np.vstack((np.hstack((np.zeros((len_P, 1)), transP)), np.zeros((1, len_P+1)))) \\\n",
    "                + (1 - q) * np.vstack((np.zeros((1, len_P+1)), np.hstack((transP, np.zeros((len_P, 1)))))) \\\n",
    "                + q * np.vstack((np.zeros((1, len_P+1)), np.hstack((np.zeros((len_P, 1)), transP))))\n",
    "\n",
    "        transP[1:-1] /= 2.\n",
    "\n",
    "\n",
    "    # ensure columns sum to 1\n",
    "    if np.max(np.abs(np.sum(transP, axis=1) - np.ones(transP.shape))) >= 1e-12:\n",
    "        print('Problem in rouwen routine!')\n",
    "        return None\n",
    "    else:\n",
    "        return transP.T, dscSp"
   ]
  },
  {
   "cell_type": "markdown",
   "metadata": {},
   "source": [
    "Start the main program.  \n",
    "\n",
    "Input parameter values and find steady state values."
   ]
  },
  {
   "cell_type": "code",
   "execution_count": 3,
   "metadata": {},
   "outputs": [
    {
     "name": "stdout",
     "output_type": "stream",
     "text": [
      "Kbar:  0.17705807534879062\n",
      "ybar:  0.564778549757\n",
      "rbar:  1.05263157895\n",
      "wbar:  0.378401628337\n",
      "cbar:  0.387720474408\n",
      "ibar:  0.177058075349\n",
      "ubar:  -0.947470625774\n"
     ]
    }
   ],
   "source": [
    "import numpy as np\n",
    "import matplotlib.pyplot as plt\n",
    "from mpl_toolkits.mplot3d import Axes3D\n",
    "\n",
    "# set parameter values\n",
    "alpha = .33\n",
    "beta = .95\n",
    "rho = .9\n",
    "sigma = .02\n",
    "mparams = (alpha, beta, rho, sigma)\n",
    "\n",
    "# find the steady state\n",
    "A = beta*alpha\n",
    "Kbar = A**(1/(1-alpha))\n",
    "print ('Kbar: ', Kbar)\n",
    "\n",
    "# get other steady state values\n",
    "zbar = 0.\n",
    "ybar, rbar, wbar, cbar, ibar, ubar = modeldefs(Kbar, Kbar, zbar, *mparams)\n",
    "print ('ybar: ', ybar)\n",
    "print ('rbar: ', rbar)\n",
    "print ('wbar: ', wbar)\n",
    "print ('cbar: ', cbar)\n",
    "print ('ibar: ', ibar)\n",
    "print ('ubar: ', ubar)"
   ]
  },
  {
   "cell_type": "markdown",
   "metadata": {},
   "source": [
    "Use numpy's linspace command to set up a grid over the possible values of $k$."
   ]
  },
  {
   "cell_type": "code",
   "execution_count": 4,
   "metadata": {
    "collapsed": true
   },
   "outputs": [],
   "source": [
    "# set up grid for k\n",
    "klow = .5*Kbar\n",
    "khigh = 1.5*Kbar\n",
    "knpts = 25\n",
    "kgrid = np.linspace(klow, khigh, num = knpts)"
   ]
  },
  {
   "cell_type": "markdown",
   "metadata": {},
   "source": [
    "Use the rouwen function to set up a grid and transition probabilities for the values of $z$.  Note the true law of motion is $z_{t+1} = \\rho z_t + \\epsilon_{t+1}$."
   ]
  },
  {
   "cell_type": "code",
   "execution_count": 5,
   "metadata": {
    "collapsed": true
   },
   "outputs": [],
   "source": [
    "# set up Markov approximation of AR(1) process using Rouwenhorst method\n",
    "spread = 5.  # number of standard deviations above and below 0\n",
    "znpts = 25\n",
    "zstep = 4.*spread*sigma/(znpts-1)\n",
    "# Markov transition probabilities, current z in cols, next z in rows\n",
    "Pimat, zgrid = rouwen(rho, 0., zstep, znpts)"
   ]
  },
  {
   "cell_type": "markdown",
   "metadata": {},
   "source": [
    "Set up arrays and parameters for value-function iteration. VF is the value function, PF is the policy function.  ccrit is the change in the VF below which we accept that we have converged.  maxit is the maximum number of iterations allowed.  dist is the initial distance measure.  iters is the initial iteration counter."
   ]
  },
  {
   "cell_type": "code",
   "execution_count": 6,
   "metadata": {
    "collapsed": true
   },
   "outputs": [],
   "source": [
    "# initialize VF and PF\n",
    "VF = np.zeros((knpts, znpts))\n",
    "VFnew = np.zeros((knpts, znpts))\n",
    "PF = np.zeros((knpts, znpts))\n",
    "\n",
    "# set VF iteration parameters\n",
    "ccrit = 1.0E-5\n",
    "maxit = 1000\n",
    "dist = 1.0E+99\n",
    "iters = 0"
   ]
  },
  {
   "cell_type": "markdown",
   "metadata": {},
   "source": [
    "Run a while loop to find the value function.  For each value of k(t) and z(t) in the grids, find the value of k(t+1) that maximizes utility."
   ]
  },
  {
   "cell_type": "code",
   "execution_count": 7,
   "metadata": {},
   "outputs": [
    {
     "name": "stdout",
     "output_type": "stream",
     "text": [
      "iteration:  1 distance:  1.2753675605\n",
      "iteration:  2 distance:  1.17821804933\n",
      "iteration:  3 distance:  1.08994360961\n",
      "iteration:  4 distance:  1.01263590958\n",
      "iteration:  5 distance:  0.943026235489\n",
      "iteration:  6 distance:  0.880427310015\n",
      "iteration:  7 distance:  0.823271550769\n",
      "iteration:  8 distance:  0.770883133736\n",
      "iteration:  9 distance:  0.722754061396\n",
      "iteration:  10 distance:  0.678412529473\n",
      "iteration:  11 distance:  0.637470536299\n",
      "iteration:  12 distance:  0.599589417066\n",
      "iteration:  13 distance:  0.564469394028\n",
      "iteration:  14 distance:  0.531847206577\n",
      "iteration:  15 distance:  0.501491242153\n",
      "iteration:  16 distance:  0.473196790323\n",
      "iteration:  17 distance:  0.446782479421\n",
      "iteration:  18 distance:  0.422087209757\n",
      "iteration:  19 distance:  0.398967551249\n",
      "iteration:  20 distance:  0.377295499584\n",
      "iteration:  21 distance:  0.356956533292\n",
      "iteration:  22 distance:  0.33784792971\n",
      "iteration:  23 distance:  0.319877305673\n",
      "iteration:  24 distance:  0.302961353393\n",
      "iteration:  25 distance:  0.287024745505\n",
      "iteration:  26 distance:  0.271999186345\n",
      "iteration:  27 distance:  0.257822589434\n",
      "iteration:  28 distance:  0.244438363723\n",
      "iteration:  29 distance:  0.231794793561\n",
      "iteration:  30 distance:  0.219844499389\n",
      "iteration:  31 distance:  0.208543967999\n",
      "iteration:  32 distance:  0.197853142763\n",
      "iteration:  33 distance:  0.187735065587\n",
      "iteration:  34 distance:  0.178155563506\n",
      "iteration:  35 distance:  0.169082973833\n",
      "iteration:  36 distance:  0.160487902651\n",
      "iteration:  37 distance:  0.152343012134\n",
      "iteration:  38 distance:  0.144622832859\n",
      "iteration:  39 distance:  0.137303597776\n",
      "iteration:  40 distance:  0.130363094975\n",
      "iteration:  41 distance:  0.123780536815\n",
      "iteration:  42 distance:  0.117536443274\n",
      "iteration:  43 distance:  0.111612537709\n",
      "iteration:  44 distance:  0.105991653461\n",
      "iteration:  45 distance:  0.100657649932\n",
      "iteration:  46 distance:  0.0955953369804\n",
      "iteration:  47 distance:  0.0907904066128\n",
      "iteration:  48 distance:  0.086229371105\n",
      "iteration:  49 distance:  0.0818995067897\n",
      "iteration:  50 distance:  0.0777888028574\n",
      "iteration:  51 distance:  0.0738859145998\n",
      "iteration:  52 distance:  0.0701801206028\n",
      "iteration:  53 distance:  0.0666612834551\n",
      "iteration:  54 distance:  0.0633198136005\n",
      "iteration:  55 distance:  0.0601466360037\n",
      "iteration:  56 distance:  0.0571331593446\n",
      "iteration:  57 distance:  0.0542712474882\n",
      "iteration:  58 distance:  0.0515531930118\n",
      "iteration:  59 distance:  0.0489716925934\n",
      "iteration:  60 distance:  0.0465198240915\n",
      "iteration:  61 distance:  0.044191025164\n",
      "iteration:  62 distance:  0.0419790732933\n",
      "iteration:  63 distance:  0.0398780670977\n",
      "iteration:  64 distance:  0.0378824088234\n",
      "iteration:  65 distance:  0.0359867879218\n",
      "iteration:  66 distance:  0.0341861656288\n",
      "iteration:  67 distance:  0.0324757604679\n",
      "iteration:  68 distance:  0.0308510346107\n",
      "iteration:  69 distance:  0.0293076810307\n",
      "iteration:  70 distance:  0.0278416113968\n",
      "iteration:  71 distance:  0.0264489446531\n",
      "iteration:  72 distance:  0.0251259962411\n",
      "iteration:  73 distance:  0.0238692679203\n",
      "iteration:  74 distance:  0.0226754381488\n",
      "iteration:  75 distance:  0.02154135299\n",
      "iteration:  76 distance:  0.0204640175104\n",
      "iteration:  77 distance:  0.0194405876399\n",
      "iteration:  78 distance:  0.0184683624671\n",
      "iteration:  79 distance:  0.0175447769425\n",
      "iteration:  80 distance:  0.0166673949672\n",
      "iteration:  81 distance:  0.0158339028442\n",
      "iteration:  82 distance:  0.0150421030716\n",
      "iteration:  83 distance:  0.0142899084591\n",
      "iteration:  84 distance:  0.0135753365486\n",
      "iteration:  85 distance:  0.0128965043244\n",
      "iteration:  86 distance:  0.0122516231939\n",
      "iteration:  87 distance:  0.0116389942274\n",
      "iteration:  88 distance:  0.0110570036413\n",
      "iteration:  89 distance:  0.0105041185113\n",
      "iteration:  90 distance:  0.00997888270524\n",
      "iteration:  91 distance:  0.00947991302216\n",
      "iteration:  92 distance:  0.00900589552766\n",
      "iteration:  93 distance:  0.00855558207518\n",
      "iteration:  94 distance:  0.00812778700335\n",
      "iteration:  95 distance:  0.00772138400048\n",
      "iteration:  96 distance:  0.0073353031274\n",
      "iteration:  97 distance:  0.00696852799056\n",
      "iteration:  98 distance:  0.00662009305772\n",
      "iteration:  99 distance:  0.00628908110886\n",
      "iteration:  100 distance:  0.00597462081536\n",
      "iteration:  101 distance:  0.00567588444105\n",
      "iteration:  102 distance:  0.00539208565883\n",
      "iteration:  103 distance:  0.00512247747693\n",
      "iteration:  104 distance:  0.00486635026949\n",
      "iteration:  105 distance:  0.00462302990578\n",
      "iteration:  106 distance:  0.00439187597354\n",
      "iteration:  107 distance:  0.00417228009128\n",
      "iteration:  108 distance:  0.00396366430525\n",
      "iteration:  109 distance:  0.00376547956683\n",
      "iteration:  110 distance:  0.00357720428618\n",
      "iteration:  111 distance:  0.00339834295841\n",
      "iteration:  112 distance:  0.00322842485848\n",
      "iteration:  113 distance:  0.00306700280158\n",
      "iteration:  114 distance:  0.00291365196556\n",
      "iteration:  115 distance:  0.00276796877225\n",
      "iteration:  116 distance:  0.00262956982488\n",
      "iteration:  117 distance:  0.00249809089865\n",
      "iteration:  118 distance:  0.00237318598181\n",
      "iteration:  119 distance:  0.00225452636474\n",
      "iteration:  120 distance:  0.00214179977462\n",
      "iteration:  121 distance:  0.00203470955344\n",
      "iteration:  122 distance:  0.00193297387702\n",
      "iteration:  123 distance:  0.00183632501323\n",
      "iteration:  124 distance:  0.00174450861729\n",
      "iteration:  125 distance:  0.00165728306219\n",
      "iteration:  126 distance:  0.00157441880288\n",
      "iteration:  127 distance:  0.00149569777192\n",
      "iteration:  128 distance:  0.00142091280569\n",
      "iteration:  129 distance:  0.00134986709902\n",
      "iteration:  130 distance:  0.00128237368731\n",
      "iteration:  131 distance:  0.00121825495442\n",
      "iteration:  132 distance:  0.00115734216521\n",
      "iteration:  133 distance:  0.00109947502147\n",
      "iteration:  134 distance:  0.00104450124006\n",
      "iteration:  135 distance:  0.000992276152136\n",
      "iteration:  136 distance:  0.000942662322352\n",
      "iteration:  137 distance:  0.000895529187279\n",
      "iteration:  138 distance:  0.000850752711703\n",
      "iteration:  139 distance:  0.000808215062257\n",
      "iteration:  140 distance:  0.000767804297293\n",
      "iteration:  141 distance:  0.000729414072296\n",
      "iteration:  142 distance:  0.000692943360026\n",
      "iteration:  143 distance:  0.000658296184614\n",
      "iteration:  144 distance:  0.000625381369055\n",
      "iteration:  145 distance:  0.000594112295182\n",
      "iteration:  146 distance:  0.000564406675803\n",
      "iteration:  147 distance:  0.000536186338049\n",
      "iteration:  148 distance:  0.000509377017764\n",
      "iteration:  149 distance:  0.000483908163979\n",
      "iteration:  150 distance:  0.000459712753308\n",
      "iteration:  151 distance:  0.000436727113527\n",
      "iteration:  152 distance:  0.000414890756051\n",
      "iteration:  153 distance:  0.000394146216699\n",
      "iteration:  154 distance:  0.000374438904547\n",
      "iteration:  155 distance:  0.000355716958182\n",
      "iteration:  156 distance:  0.000337931109314\n",
      "iteration:  157 distance:  0.000321034553018\n",
      "iteration:  158 distance:  0.000304982824662\n",
      "iteration:  159 distance:  0.000289733682823\n",
      "iteration:  160 distance:  0.000275246998168\n",
      "iteration:  161 distance:  0.000261484647819\n",
      "iteration:  162 distance:  0.000248410415058\n",
      "iteration:  163 distance:  0.000235989893977\n",
      "iteration:  164 distance:  0.000224190398999\n",
      "iteration:  165 distance:  0.000212980878818\n",
      "iteration:  166 distance:  0.000202331834668\n",
      "iteration:  167 distance:  0.00019221524277\n",
      "iteration:  168 distance:  0.000182604480486\n",
      "iteration:  169 distance:  0.000173474256332\n",
      "iteration:  170 distance:  0.00016480054342\n",
      "iteration:  171 distance:  0.000156560516146\n",
      "iteration:  172 distance:  0.000148732490263\n",
      "iteration:  173 distance:  0.000141295865681\n",
      "iteration:  174 distance:  0.000134231072341\n",
      "iteration:  175 distance:  0.000127519518671\n",
      "iteration:  176 distance:  0.000121143542692\n",
      "iteration:  177 distance:  0.000115086365529\n",
      "iteration:  178 distance:  0.000109332047213\n",
      "iteration:  179 distance:  0.000103865444828\n",
      "iteration:  180 distance:  9.86721725695e-05\n",
      "iteration:  181 distance:  9.37385639261e-05\n",
      "iteration:  182 distance:  8.90516357153e-05\n",
      "iteration:  183 distance:  8.45990539098e-05\n",
      "iteration:  184 distance:  8.03691012017e-05\n",
      "iteration:  185 distance:  7.63506461325e-05\n",
      "iteration:  186 distance:  7.25331138156e-05\n",
      "iteration:  187 distance:  6.89064581181e-05\n",
      "iteration:  188 distance:  6.54611352182e-05\n",
      "iteration:  189 distance:  6.2188078445e-05\n",
      "iteration:  190 distance:  5.90786745214e-05\n",
      "iteration:  191 distance:  5.6124740798e-05\n",
      "iteration:  192 distance:  5.3318503749e-05\n",
      "iteration:  193 distance:  5.06525785653e-05\n",
      "iteration:  194 distance:  4.81199496214e-05\n",
      "iteration:  195 distance:  4.57139521401e-05\n",
      "iteration:  196 distance:  4.34282545321e-05\n",
      "iteration:  197 distance:  4.12568418149e-05\n",
      "iteration:  198 distance:  3.91939997186e-05\n",
      "iteration:  199 distance:  3.72342997359e-05\n",
      "iteration:  200 distance:  3.53725847511e-05\n",
      "iteration:  201 distance:  3.36039555044e-05\n",
      "iteration:  202 distance:  3.1923757728e-05\n",
      "iteration:  203 distance:  3.03275698457e-05\n",
      "iteration:  204 distance:  2.88111913562e-05\n",
      "iteration:  205 distance:  2.73706317806e-05\n",
      "iteration:  206 distance:  2.60021001992e-05\n",
      "iteration:  207 distance:  2.47019951871e-05\n",
      "iteration:  208 distance:  2.34668954278e-05\n",
      "iteration:  209 distance:  2.22935506571e-05\n",
      "iteration:  210 distance:  2.11788731264e-05\n",
      "iteration:  211 distance:  2.01199294665e-05\n",
      "iteration:  212 distance:  1.91139329999e-05\n",
      "iteration:  213 distance:  1.81582363474e-05\n",
      "iteration:  214 distance:  1.72503245395e-05\n",
      "iteration:  215 distance:  1.63878083086e-05\n",
      "iteration:  216 distance:  1.556841789e-05\n",
      "iteration:  217 distance:  1.4789996996e-05\n",
      "iteration:  218 distance:  1.40504971498e-05\n",
      "iteration:  219 distance:  1.33479722919e-05\n",
      "iteration:  220 distance:  1.26805736791e-05\n",
      "iteration:  221 distance:  1.20465449953e-05\n",
      "iteration:  222 distance:  1.14442177477e-05\n",
      "iteration:  223 distance:  1.08720068575e-05\n",
      "iteration:  224 distance:  1.0328406514e-05\n",
      "iteration:  225 distance:  9.81198618888e-06\n"
     ]
    }
   ],
   "source": [
    "# iterate to find true VF\n",
    "while (dist > ccrit) and (iters < maxit):\n",
    "    # set new value function to zeros\n",
    "    VFnew.fill(0.0)\n",
    "    # update increment counter\n",
    "    iters = iters + 1\n",
    "    # search over k(t) - i index, and z(t) - j index\n",
    "    for i in range (0, knpts):\n",
    "        for j in range(0, znpts):\n",
    "            # set initial maximum to a large negative number\n",
    "            maxval = -1.0E+98\n",
    "            # search over k(t+1) - m index\n",
    "            for m in range(0, knpts):\n",
    "                # get current period utility\n",
    "                yout, rat, wag, con, inv, u =  \\\n",
    "                    modeldefs(kgrid[i], kgrid[m], zgrid[j], *mparams)\n",
    "                # get expected value\n",
    "                val = u\n",
    "                # weighted sum over possible values of z(t+1) - n index\n",
    "                for n in range (0, znpts):\n",
    "                    # sum over all possible value of z(t+1) with Markov probs\n",
    "                    val = val + beta*Pimat[n, j]*VF[m, n]\n",
    "                    # if this exceeds previous maximum do replacements\n",
    "                if val > maxval:\n",
    "                    maxval = val          # new maximum value\n",
    "                    VFnew[i, j] = val     # write this to appropriate cell in VFnew\n",
    "                    PF[i, j] = kgrid[m]   # write value of k(t+1) into PF\n",
    "                    \n",
    "    # calculate the new distance measure, we use maximum absolute difference\n",
    "    dist = np.amax(np.abs(VF - VFnew))\n",
    "    # report the results of the current iteration\n",
    "    print ('iteration: ', iters, 'distance: ', dist)\n",
    "    # replace the value function with the new one\n",
    "    VF = 1.*VFnew"
   ]
  },
  {
   "cell_type": "markdown",
   "metadata": {},
   "source": [
    "One VF has converged, report number of iterations and the steady state value for the policy function."
   ]
  },
  {
   "cell_type": "code",
   "execution_count": 17,
   "metadata": {},
   "outputs": [
    {
     "name": "stdout",
     "output_type": "stream",
     "text": [
      "Converged after 225 iterations\n",
      "Policy function at ( 12 , 12 ) should be 0.177058075349 and is 0.177058075349\n"
     ]
    }
   ],
   "source": [
    "print ('Converged after', iters, 'iterations')\n",
    "kmid = int(round((knpts-1)/2))\n",
    "zmid = int(round((znpts-1)/2))\n",
    "print ('Policy function at (', kmid, ',', zmid, ') should be', \\\n",
    "    kgrid[kmid], 'and is', PF[kmid, zmid])"
   ]
  },
  {
   "cell_type": "markdown",
   "metadata": {},
   "source": [
    "Do a surface olot for the discrete approximation to the policy function."
   ]
  },
  {
   "cell_type": "code",
   "execution_count": 18,
   "metadata": {},
   "outputs": [
    {
     "data": {
      "image/png": "[encoded data removed]",
      "text/plain": [
       "<matplotlib.figure.Figure at 0x1158262e8>"
      ]
     },
     "metadata": {},
     "output_type": "display_data"
    }
   ],
   "source": [
    "# create meshgrid\n",
    "zmesh, kmesh = np.meshgrid(zgrid, kgrid)\n",
    "\n",
    "# plot grid approximation of policy function\n",
    "fig = plt.figure()\n",
    "ax = fig.add_subplot(111, projection='3d')\n",
    "ax.plot_surface(kmesh, zmesh, PF)\n",
    "ax.view_init(30, 150)\n",
    "plt.title('Policy Function Grid')\n",
    "plt.xlabel('k(t)')\n",
    "plt.ylabel('z(t)')\n",
    "plt.show()"
   ]
  },
  {
   "cell_type": "markdown",
   "metadata": {},
   "source": [
    "Calculate the values using the closed-form policy function and plot this."
   ]
  },
  {
   "cell_type": "code",
   "execution_count": 19,
   "metadata": {},
   "outputs": [
    {
     "data": {
      "image/png": "[encoded data removed]",
      "text/plain": [
       "<matplotlib.figure.Figure at 0x1160284a8>"
      ]
     },
     "metadata": {},
     "output_type": "display_data"
    }
   ],
   "source": [
    "# caclulate and plot closed form solution for policy function\n",
    "TruePF = np.zeros((knpts, znpts))\n",
    "for i in range (0, knpts):\n",
    "    for j in range(0, znpts):\n",
    "        TruePF[i, j] = alpha*beta*kgrid[i]**alpha*np.exp(zgrid[j])\n",
    "fig = plt.figure()\n",
    "ax = fig.add_subplot(111, projection='3d')\n",
    "ax.plot_surface(kmesh, zmesh, TruePF)\n",
    "ax.view_init(30, 150)\n",
    "plt.title('True Policy Function')\n",
    "plt.xlabel('k(t)')\n",
    "plt.ylabel('z(t)')\n",
    "plt.show()"
   ]
  }
 ],
 "metadata": {
  "kernelspec": {
   "display_name": "Python 3",
   "language": "python",
   "name": "python3"
  },
  "language_info": {
   "codemirror_mode": {
    "name": "ipython",
    "version": 3
   },
   "file_extension": ".py",
   "mimetype": "text/x-python",
   "name": "python",
   "nbconvert_exporter": "python",
   "pygments_lexer": "ipython3",
   "version": "3.6.1"
  }
 },
 "nbformat": 4,
 "nbformat_minor": 2
}
